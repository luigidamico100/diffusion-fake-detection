{
  "cells": [
    {
      "cell_type": "code",
      "execution_count": 1,
      "metadata": {
        "colab": {
          "base_uri": "https://localhost:8080/"
        },
        "id": "OFLiEonUv5cv",
        "outputId": "b2e83347-1652-473d-92b4-3407ae3d67ad"
      },
      "outputs": [
        {
          "name": "stderr",
          "output_type": "stream",
          "text": [
            "/Users/gigi/opt/anaconda3/envs/diffusers_env/lib/python3.9/site-packages/tqdm/auto.py:22: TqdmWarning: IProgress not found. Please update jupyter and ipywidgets. See https://ipywidgets.readthedocs.io/en/stable/user_install.html\n",
            "  from .autonotebook import tqdm as notebook_tqdm\n"
          ]
        },
        {
          "name": "stdout",
          "output_type": "stream",
          "text": [
            "cpu\n"
          ]
        }
      ],
      "source": [
        "%matplotlib inline\n",
        "import matplotlib.pyplot as plt\n",
        "import numpy as np\n",
        "import random\n",
        "\n",
        "from torch.utils.data import DataLoader, Dataset\n",
        "import torchvision.utils\n",
        "import torch\n",
        "import torch.nn as nn\n",
        "from torch import optim\n",
        "from defake.config import device\n",
        "from defake.models.models import DnCNN, SiameseNetwork, SimpleNet\n",
        "\n",
        "print(device)\n"
      ]
    },
    {
      "cell_type": "code",
      "execution_count": 2,
      "metadata": {
        "id": "hgVfwTo81PqA"
      },
      "outputs": [],
      "source": [
        "class DatasetTrial(Dataset):\n",
        "\n",
        "    def __init__(self, dataset): # dataset: list[list[np.array]]\n",
        "        \"\"\"\n",
        "        dataset: list[list[np.array]]\n",
        "        dataset is a list containing num_class elements\n",
        "         - each element is a list containing n_samples_per_class elements\n",
        "         --- each element is a np.ndarray of shape (3, H, W) in the range [0..1]\n",
        "        \"\"\"\n",
        "        self.dataset = dataset\n",
        "        self.num_classes = len(self.dataset)\n",
        "        \n",
        "    def __len__(self):\n",
        "        return len(self.dataset[0])\n",
        "\n",
        "    def __getitem__(self, idx):\n",
        "        \"\"\"\n",
        "        return a list of n_class elements\n",
        "        - each element is a np.ndarray of shape (3, H, W)\n",
        "        \"\"\"\n",
        "        return [self.dataset[class_][idx] for class_ in range(self.num_classes)]\n",
        "\n",
        "def create_uniform_rgb(r,g,b, width = 128,height = 128):\n",
        "    r_matrix = np.full((height,width), r, dtype=np.float32)\n",
        "    g_matrix = np.full((height,width), g, dtype=np.float32)\n",
        "    b_matrix = np.full((height,width), b, dtype=np.float32)\n",
        "    # r_matrix[height-5:height-1,width-5:width-1] = 255\n",
        "    # g_matrix[height-5:height-1,width-5:width-1] = 255\n",
        "    # b_matrix[height-5:height-1,width-5:width-1] = 255\n",
        "    return np.asanyarray([r_matrix,g_matrix,b_matrix]) # shape: (channels, height, width)\n",
        "\n",
        "def generate_random_with_min(min=.5):\n",
        "  random_number = random.random()\n",
        "  return (random_number+min)/(1.+min)\n",
        "\n",
        "\n",
        "class PatchDataset(Dataset):\n",
        "\n",
        "    def __init__(self, dataset): # dataset: list[list[np.array]]\n",
        "        \"\"\"\n",
        "        dataset: list[list[np.array]]\n",
        "        dataset is a list containing num_class elements\n",
        "         - each element is a list containing n_samples_per_class elements\n",
        "         --- each element is a np.ndarray of shape (3, H, W) in the range [0..1]\n",
        "        \"\"\"\n",
        "        self.dataset = dataset\n",
        "        self.num_classes = len(self.dataset)\n",
        "        \n",
        "    def __len__(self):\n",
        "        return len(self.dataset[0])\n",
        "\n",
        "    def __getitem__(self, idx):\n",
        "        \"\"\"\n",
        "        return a list of n_class elements\n",
        "        - each element is a np.ndarray of shape (3, H, W)\n",
        "        \"\"\"\n",
        "        return [self.dataset[class_][idx] for class_ in range(self.num_classes)]\n",
        "\n",
        "\n",
        "class DBL_loss():\n",
        "  \"\"\"Distance Based Loss\n",
        "  Do not work. Use the function compute_DBL_loss instead.\n",
        "  \"\"\"\n",
        "  def __init__(self, batch_size, device):\n",
        "\n",
        "    # building the correspondance matrix\n",
        "    self.correspondence_matrix = torch.zeros(batch_size, batch_size, dtype=torch.bool, device=device) # N x N matrix (L in the paper)\n",
        "    for idx_class in range(n_classes):\n",
        "      self.correspondence_matrix[idx_class*batch_size_per_class:(idx_class+1)*batch_size_per_class, idx_class*batch_size_per_class:(idx_class+1)*batch_size_per_class] = True\n",
        "\n",
        "  def compute_loss(self, batch_outputs):\n",
        "    # distance matrix\n",
        "    output_vectors = torch.flatten(batch_outputs.squeeze(), start_dim=1, end_dim=2) # Shape (N, 128*128)\n",
        "    distance_matrix = torch.cdist(output_vectors, output_vectors, p=2.) # Shape (N, N)\n",
        "\n",
        "    # Computing softmax for each row of distance matrix - Equation (1)\n",
        "    # Probability matrix\n",
        "    P = nn.functional.softmax(-distance_matrix, dim=1) # TODO: The element on the distance_matrix should be setted to -inf to be not considered in the softmax\n",
        "    \n",
        "    # Equation (2)\n",
        "    L = -torch.log((P * self.correspondence_matrix).sum(dim=1))\n",
        "\n",
        "    # Equation (3)\n",
        "    loss = torch.sum(L)\n",
        "\n",
        "    return loss\n",
        "\n",
        "\n",
        "def compute_DBL_loss(batch_outputs, correspondence_matrix):\n",
        "  \"\"\"\n",
        "  batch_outputs: shape (N, 1, H, W)\n",
        "  correspondence_matrix: shape (N x N)\n",
        "  \"\"\"\n",
        "  # distance matrix\n",
        "  output_vectors = torch.flatten(batch_outputs.squeeze(), start_dim=1, end_dim=2) # Shape (N, H*W)\n",
        "  distance_matrix = torch.cdist(output_vectors, output_vectors, p=2.) # Shape (N, N)\n",
        "\n",
        "  # Computing softmax for each row of distance matrix - Equation (1)\n",
        "  # Probability matrix\n",
        "  P = nn.functional.softmax(-distance_matrix, dim=1) # TODO: The element on the distance_matrix should be setted to -inf to be not considered in the softmax\n",
        "  \n",
        "  # Equation (2)\n",
        "  L = -torch.log((P * correspondence_matrix).sum(dim=1))\n",
        "\n",
        "  # Equation (3)\n",
        "  loss = torch.sum(L)\n",
        "\n",
        "  return loss"
      ]
    },
    {
      "cell_type": "code",
      "execution_count": 3,
      "metadata": {
        "id": "tVcc5xQZDmVX"
      },
      "outputs": [],
      "source": [
        "n_samples_per_class_train = 500 # also called n\n",
        "n_samples_per_class_val = 200\n",
        "n_samples_per_class_test = 100\n",
        "batch_size = 9 # also called N\n",
        "\n",
        "dataset_train_blue = [create_uniform_rgb(0,0, generate_random_with_min()) for _ in range(n_samples_per_class_train)]\n",
        "dataset_train_red = [create_uniform_rgb(generate_random_with_min(), 0, 0) for _ in range(n_samples_per_class_train)]\n",
        "dataset_train_green = [create_uniform_rgb(0, generate_random_with_min(), 0) for _ in range(n_samples_per_class_train)]\n",
        "dataset_val_blue = [create_uniform_rgb(0,0, generate_random_with_min()) for _ in range(n_samples_per_class_val)]\n",
        "dataset_val_red = [create_uniform_rgb(generate_random_with_min(), 0, 0) for _ in range(n_samples_per_class_val)]\n",
        "dataset_val_green = [create_uniform_rgb(0, generate_random_with_min(), 0) for _ in range(n_samples_per_class_val)]\n",
        "dataset_test_blue = [create_uniform_rgb(0,0, generate_random_with_min()) for _ in range(n_samples_per_class_test)]\n",
        "dataset_test_red = [create_uniform_rgb(generate_random_with_min(), 0, 0) for _ in range(n_samples_per_class_test)]\n",
        "dataset_test_green = [create_uniform_rgb(0, generate_random_with_min(), 0) for _ in range(n_samples_per_class_test)]\n",
        "dataset_train_list = [dataset_train_red, dataset_train_green, dataset_train_blue] # list of 3 elements -> list of images_per_classes elements -> each image has shape (3, 128, 128)\n",
        "dataset_val_list = [dataset_val_red, dataset_val_green, dataset_val_blue]\n",
        "dataset_test_list = [dataset_test_red, dataset_test_green, dataset_test_blue]\n",
        "\n",
        "dataset_train = DatasetTrial(dataset_train_list)\n",
        "dataset_val = DatasetTrial(dataset_val_list)\n",
        "dataset_test = DatasetTrial(dataset_test_list)\n",
        "n_classes = dataset_train.num_classes\n",
        "\n",
        "assert (batch_size/n_classes).is_integer()\n",
        "\n",
        "batch_size_per_class = batch_size//n_classes\n",
        "dataloader_train = DataLoader(dataset_train, batch_size=batch_size_per_class, shuffle=True, drop_last=True)\n",
        "dataloader_val = DataLoader(dataset_val, batch_size=batch_size_per_class, shuffle=True, drop_last=True)\n",
        "dataloader_test = DataLoader(dataset_test, batch_size=1, shuffle=True, drop_last=True)\n",
        "\n",
        "\n",
        "model = DnCNN(in_nc=3) # This model is really huge -> the training gonna be slow\n",
        "model = SimpleNet(device)\n",
        "siamese_net = SiameseNetwork(model, device)\n",
        "optimizer = optim.Adam(model.parameters(), lr = 0.0005)\n",
        "loss = DBL_loss(batch_size, device)"
      ]
    },
    {
      "cell_type": "code",
      "execution_count": 4,
      "metadata": {
        "colab": {
          "base_uri": "https://localhost:8080/",
          "height": 367
        },
        "id": "cuNsC_AWINiA",
        "outputId": "320fa9a3-cd9c-4dbd-c6fd-7a180fea665e"
      },
      "outputs": [
        {
          "name": "stdout",
          "output_type": "stream",
          "text": [
            "Epoch: 0 - train_loss: 0.445 - val_loss: 0.000\n",
            "Epoch: 4 - train_loss: 0.000 - val_loss: 0.000\n",
            "Epoch: 8 - train_loss: 0.000 - val_loss: 0.000\n",
            "Epoch: 12 - train_loss: 0.000 - val_loss: 0.000\n",
            "Epoch: 16 - train_loss: 0.000 - val_loss: 0.000\n"
          ]
        },
        {
          "data": {
            "text/plain": [
              "<matplotlib.legend.Legend at 0x7faa829bc1c0>"
            ]
          },
          "execution_count": 4,
          "metadata": {},
          "output_type": "execute_result"
        },
        {
          "data": {
            "image/png": "[encoded data removed]",
            "text/plain": [
              "<Figure size 640x480 with 1 Axes>"
            ]
          },
          "metadata": {},
          "output_type": "display_data"
        }
      ],
      "source": [
        "# N: batch size\n",
        "# N = n_images_per_class * n_classes\n",
        "\n",
        "epochs = 20\n",
        "\n",
        "train_loss_history = [] \n",
        "train_loss_batches = []\n",
        "val_loss_batches = []\n",
        "val_loss_history = []\n",
        "\n",
        "\n",
        "# building the correspondance matrix\n",
        "correspondence_matrix = torch.zeros(batch_size, batch_size, dtype=torch.bool, device=device) # N x N matrix (L in the paper)\n",
        "for idx_class in range(n_classes):\n",
        "  correspondence_matrix[idx_class*batch_size_per_class:(idx_class+1)*batch_size_per_class, idx_class*batch_size_per_class:(idx_class+1)*batch_size_per_class] = True\n",
        "\n",
        "# Iterate throught the epochs\n",
        "for epoch in range(epochs):\n",
        "    train_loss_batches = []\n",
        "    val_loss_batches = []\n",
        "\n",
        "    model.train()\n",
        "    # Training loop\n",
        "    for dataloader_item in dataloader_train:\n",
        "        # dataloader_item: list of n_class elements containing tensor of shape (n, H, W)\n",
        "\n",
        "        optimizer.zero_grad()\n",
        "\n",
        "        # forward pass\n",
        "        batch_outputs = model.compute_batch_output(dataloader_item)\n",
        "\n",
        "        # batch_loss = loss.compute_loss(batch_outputs)\n",
        "        batch_loss = compute_DBL_loss(batch_outputs, correspondence_matrix)\n",
        "\n",
        "        batch_loss.backward()\n",
        "        optimizer.step()\n",
        "\n",
        "        train_loss_batches.append(batch_loss.item())\n",
        "\n",
        "    model.eval()\n",
        "    # Validation loop  \n",
        "    for dataloader_item in dataloader_val:\n",
        "        batch_outputs = model.compute_batch_output(dataloader_item)\n",
        "        batch_loss = compute_DBL_loss(batch_outputs, correspondence_matrix)\n",
        "        val_loss_batches.append(batch_loss.item())\n",
        "\n",
        "    # update the training history \n",
        "    train_loss_epoch = sum(train_loss_batches) / len(train_loss_batches)\n",
        "    val_loss_epoch = sum(val_loss_batches) / len(val_loss_batches)\n",
        "    train_loss_history.append(train_loss_epoch)\n",
        "    val_loss_history.append(val_loss_epoch)\n",
        "\n",
        "    if epoch%4 == 0:\n",
        "        print(f'Epoch: {epoch} - train_loss: {train_loss_epoch:.3f} - val_loss: {val_loss_epoch:.3f}') \n",
        "\n",
        "plt.plot(train_loss_history, label='training loss')\n",
        "plt.plot(val_loss_history, label='validation loss')\n",
        "plt.legend()"
      ]
    },
    {
      "cell_type": "code",
      "execution_count": 7,
      "metadata": {
        "colab": {
          "base_uri": "https://localhost:8080/",
          "height": 729
        },
        "id": "9NL7dURc8ZgO",
        "outputId": "a86afa89-20b6-46b8-a9e9-3a55e754fd56"
      },
      "outputs": [
        {
          "data": {
            "image/png": "[encoded data removed]",
            "text/plain": [
              "<Figure size 720x720 with 14 Axes>"
            ]
          },
          "metadata": {
            "needs_background": "light"
          },
          "output_type": "display_data"
        }
      ],
      "source": [
        "\"\"\" Script to show the distances of two random images output of the siamese network \"\"\"\n",
        "\n",
        "n_examples_test = 7\n",
        "\n",
        "siamese_net.eval()\n",
        "\n",
        "fig, axs = plt.subplots(n_examples_test, 2, figsize=(10, 10))\n",
        "dataiter = iter(dataloader_test)\n",
        "\n",
        "for i in range(n_examples_test):\n",
        "  class_img_1 = random.randrange(n_classes)\n",
        "  class_img_2 = random.randrange(n_classes)\n",
        "  img_1 = next(dataiter)[class_img_1][0].to(device)\n",
        "  img_2 = next(dataiter)[class_img_2][0].to(device)\n",
        "  dist = siamese_net(img_1, img_2).item()\n",
        "\n",
        "  axs[i, 0].imshow(np.transpose(img_1.cpu(), (1, 2, 0)))\n",
        "  axs[i, 1].imshow(np.transpose(img_2.cpu(), (1, 2, 0)))\n",
        "  axs[i, 0].set_title(f'class: {class_img_1}')\n",
        "  axs[i, 1].set_title(f'class: {class_img_2}, L2-distance: {dist:.3f}')\n",
        "  axs[i, 0].axis('off')\n",
        "  axs[i, 1].axis('off')\n",
        "\n",
        "plt.tight_layout()"
      ]
    },
    {
      "cell_type": "code",
      "execution_count": 8,
      "metadata": {
        "colab": {
          "base_uri": "https://localhost:8080/",
          "height": 729
        },
        "id": "hRxRMy_8BjR3",
        "outputId": "be8d7fac-9b02-4622-8e46-0a2da592a206"
      },
      "outputs": [
        {
          "data": {
            "image/png": "[encoded data removed]",
            "text/plain": [
              "<Figure size 720x720 with 14 Axes>"
            ]
          },
          "metadata": {
            "needs_background": "light"
          },
          "output_type": "display_data"
        }
      ],
      "source": [
        "\"\"\" Script to show the input and output pair of the model \"\"\"\n",
        "\n",
        "n_examples_test = 7\n",
        "\n",
        "model.eval()\n",
        "\n",
        "fig, axs = plt.subplots(n_examples_test, 2, figsize=(10, 10))\n",
        "dataiter = iter(dataloader_test)\n",
        "\n",
        "for i in range(n_examples_test):\n",
        "  class_img = random.randrange(n_classes)\n",
        "  input_img = next(dataiter)[class_img].to(device)\n",
        "  output_img = model(input_img).squeeze().detach()\n",
        "  input_img = input_img.squeeze()\n",
        "\n",
        "  axs[i, 0].imshow(np.transpose(input_img.cpu(), (1, 2, 0)))\n",
        "  axs[i, 1].imshow(np.transpose(output_img.cpu()))\n",
        "  axs[i, 0].set_title(f'Input')\n",
        "  axs[i, 1].set_title(f'Output')\n",
        "  axs[i, 0].axis('off')\n",
        "  axs[i, 1].axis('off')\n",
        "plt.tight_layout()\n",
        "\n"
      ]
    },
    {
      "cell_type": "code",
      "execution_count": 8,
      "metadata": {
        "id": "H0-aJdflVTCD"
      },
      "outputs": [],
      "source": []
    }
  ],
  "metadata": {
    "accelerator": "GPU",
    "colab": {
      "provenance": []
    },
    "kernelspec": {
      "display_name": "diffusers_env",
      "language": "python",
      "name": "python3"
    },
    "language_info": {
      "codemirror_mode": {
        "name": "ipython",
        "version": 3
      },
      "file_extension": ".py",
      "mimetype": "text/x-python",
      "name": "python",
      "nbconvert_exporter": "python",
      "pygments_lexer": "ipython3",
      "version": "3.9.15"
    },
    "vscode": {
      "interpreter": {
        "hash": "93050143a16df8df7082ffda66565f1e91fe579585c32581c80e6bd498600f20"
      }
    }
  },
  "nbformat": 4,
  "nbformat_minor": 0
}
